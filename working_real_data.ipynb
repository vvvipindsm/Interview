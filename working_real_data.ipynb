{
  "cells": [
    {
      "cell_type": "markdown",
      "metadata": {
        "id": "view-in-github",
        "colab_type": "text"
      },
      "source": [
        "<a href=\"https://colab.research.google.com/github/vvvipindsm/Interview/blob/master/working_real_data.ipynb\" target=\"_parent\"><img src=\"https://colab.research.google.com/assets/colab-badge.svg\" alt=\"Open In Colab\"/></a>"
      ]
    },
    {
      "cell_type": "code",
      "execution_count": 10,
      "metadata": {
        "id": "aWCoonOEnNHb",
        "colab": {
          "base_uri": "https://localhost:8080/"
        },
        "outputId": "643e0047-578f-4f95-a979-72def0a851cf"
      },
      "outputs": [
        {
          "output_type": "stream",
          "name": "stdout",
          "text": [
            "Requirement already satisfied: fiftyone in ./opt/anaconda3/lib/python3.9/site-packages (0.16.5)\n",
            "Requirement already satisfied: scikit-image in ./opt/anaconda3/lib/python3.9/site-packages (from fiftyone) (0.18.3)\n",
            "Requirement already satisfied: plotly<5,>=4.14 in ./opt/anaconda3/lib/python3.9/site-packages (from fiftyone) (4.14.3)\n",
            "Requirement already satisfied: mongoengine==0.20.0 in ./opt/anaconda3/lib/python3.9/site-packages (from fiftyone) (0.20.0)\n",
            "Requirement already satisfied: future in ./opt/anaconda3/lib/python3.9/site-packages (from fiftyone) (0.18.2)\n",
            "Requirement already satisfied: PyYAML in ./opt/anaconda3/lib/python3.9/site-packages (from fiftyone) (6.0)\n",
            "Requirement already satisfied: Jinja2>=3 in ./opt/anaconda3/lib/python3.9/site-packages (from fiftyone) (3.1.2)\n",
            "Requirement already satisfied: boto3 in ./opt/anaconda3/lib/python3.9/site-packages (from fiftyone) (1.24.24)\n",
            "Requirement already satisfied: fiftyone-brain<0.9,>=0.8 in ./opt/anaconda3/lib/python3.9/site-packages (from fiftyone) (0.8.2)\n",
            "Requirement already satisfied: pytz in ./opt/anaconda3/lib/python3.9/site-packages (from fiftyone) (2021.3)\n",
            "Requirement already satisfied: tabulate in ./opt/anaconda3/lib/python3.9/site-packages (from fiftyone) (0.8.10)\n",
            "Requirement already satisfied: pprintpp in ./opt/anaconda3/lib/python3.9/site-packages (from fiftyone) (0.4.0)\n",
            "Requirement already satisfied: voxel51-eta<0.8,>=0.7.1 in ./opt/anaconda3/lib/python3.9/site-packages (from fiftyone) (0.7.1)\n",
            "Requirement already satisfied: xmltodict in ./opt/anaconda3/lib/python3.9/site-packages (from fiftyone) (0.12.0)\n",
            "Requirement already satisfied: packaging in ./opt/anaconda3/lib/python3.9/site-packages (from fiftyone) (21.0)\n",
            "Requirement already satisfied: Deprecated in ./opt/anaconda3/lib/python3.9/site-packages (from fiftyone) (1.2.13)\n",
            "Requirement already satisfied: psutil in ./opt/anaconda3/lib/python3.9/site-packages (from fiftyone) (5.8.0)\n",
            "Requirement already satisfied: fiftyone-db<0.4,>=0.3 in ./opt/anaconda3/lib/python3.9/site-packages (from fiftyone) (0.3.0)\n",
            "Requirement already satisfied: motor<3,>=2.3 in ./opt/anaconda3/lib/python3.9/site-packages (from fiftyone) (2.5.1)\n",
            "Requirement already satisfied: retrying in ./opt/anaconda3/lib/python3.9/site-packages (from fiftyone) (1.3.3)\n",
            "Requirement already satisfied: sseclient-py<2,>=1.7.2 in ./opt/anaconda3/lib/python3.9/site-packages (from fiftyone) (1.7.2)\n",
            "Requirement already satisfied: ndjson in ./opt/anaconda3/lib/python3.9/site-packages (from fiftyone) (0.3.1)\n",
            "Requirement already satisfied: starlette==0.16.0 in ./opt/anaconda3/lib/python3.9/site-packages (from fiftyone) (0.16.0)\n",
            "Requirement already satisfied: dacite>=1.6.0 in ./opt/anaconda3/lib/python3.9/site-packages (from fiftyone) (1.6.0)\n",
            "Requirement already satisfied: pandas in ./opt/anaconda3/lib/python3.9/site-packages (from fiftyone) (1.3.4)\n",
            "Requirement already satisfied: numpy in ./opt/anaconda3/lib/python3.9/site-packages (from fiftyone) (1.20.3)\n",
            "Requirement already satisfied: strawberry-graphql==0.96.0 in ./opt/anaconda3/lib/python3.9/site-packages (from fiftyone) (0.96.0)\n",
            "Requirement already satisfied: argcomplete in ./opt/anaconda3/lib/python3.9/site-packages (from fiftyone) (2.0.0)\n",
            "Requirement already satisfied: sse-starlette<1,>=0.10.3 in ./opt/anaconda3/lib/python3.9/site-packages (from fiftyone) (0.10.3)\n",
            "Requirement already satisfied: matplotlib in ./opt/anaconda3/lib/python3.9/site-packages (from fiftyone) (3.4.3)\n",
            "Requirement already satisfied: hypercorn>=0.13.2 in ./opt/anaconda3/lib/python3.9/site-packages (from fiftyone) (0.13.2)\n",
            "Requirement already satisfied: setuptools in ./opt/anaconda3/lib/python3.9/site-packages (from fiftyone) (58.0.4)\n",
            "Requirement already satisfied: opencv-python-headless in ./opt/anaconda3/lib/python3.9/site-packages (from fiftyone) (4.6.0.66)\n",
            "Requirement already satisfied: pymongo<4,>=3.11 in ./opt/anaconda3/lib/python3.9/site-packages (from fiftyone) (3.12.3)\n",
            "Requirement already satisfied: Pillow>=6.2 in ./opt/anaconda3/lib/python3.9/site-packages (from fiftyone) (8.4.0)\n",
            "Requirement already satisfied: scikit-learn in ./opt/anaconda3/lib/python3.9/site-packages (from fiftyone) (0.24.2)\n",
            "Requirement already satisfied: aiofiles in ./opt/anaconda3/lib/python3.9/site-packages (from fiftyone) (0.8.0)\n",
            "Requirement already satisfied: universal-analytics-python3<2,>=1.0.1 in ./opt/anaconda3/lib/python3.9/site-packages (from fiftyone) (1.1.1)\n",
            "Requirement already satisfied: kaleido in ./opt/anaconda3/lib/python3.9/site-packages (from fiftyone) (0.2.1)\n",
            "Requirement already satisfied: eventlet in ./opt/anaconda3/lib/python3.9/site-packages (from fiftyone) (0.33.1)\n",
            "Requirement already satisfied: anyio<4,>=3.0.0 in ./opt/anaconda3/lib/python3.9/site-packages (from starlette==0.16.0->fiftyone) (3.6.1)\n",
            "Requirement already satisfied: pygments<3.0,>=2.3 in ./opt/anaconda3/lib/python3.9/site-packages (from strawberry-graphql==0.96.0->fiftyone) (2.10.0)\n",
            "Requirement already satisfied: python-multipart<0.0.6,>=0.0.5 in ./opt/anaconda3/lib/python3.9/site-packages (from strawberry-graphql==0.96.0->fiftyone) (0.0.5)\n",
            "Requirement already satisfied: backports.cached-property<2.0.0,>=1.0.1 in ./opt/anaconda3/lib/python3.9/site-packages (from strawberry-graphql==0.96.0->fiftyone) (1.0.2)\n",
            "Requirement already satisfied: sentinel<0.4.0,>=0.3.0 in ./opt/anaconda3/lib/python3.9/site-packages (from strawberry-graphql==0.96.0->fiftyone) (0.3.0)\n",
            "Requirement already satisfied: python-dateutil<3.0.0,>=2.7.0 in ./opt/anaconda3/lib/python3.9/site-packages (from strawberry-graphql==0.96.0->fiftyone) (2.8.2)\n",
            "Requirement already satisfied: typing_extensions<5.0.0,>=3.7.4 in ./opt/anaconda3/lib/python3.9/site-packages (from strawberry-graphql==0.96.0->fiftyone) (3.10.0.2)\n",
            "Requirement already satisfied: graphql-core<3.2.0,>=3.1.0 in ./opt/anaconda3/lib/python3.9/site-packages (from strawberry-graphql==0.96.0->fiftyone) (3.1.7)\n",
            "Requirement already satisfied: click<9.0,>=7.0 in ./opt/anaconda3/lib/python3.9/site-packages (from strawberry-graphql==0.96.0->fiftyone) (8.0.3)\n",
            "Requirement already satisfied: sniffio>=1.1 in ./opt/anaconda3/lib/python3.9/site-packages (from anyio<4,>=3.0.0->starlette==0.16.0->fiftyone) (1.2.0)\n",
            "Requirement already satisfied: idna>=2.8 in ./opt/anaconda3/lib/python3.9/site-packages (from anyio<4,>=3.0.0->starlette==0.16.0->fiftyone) (3.2)\n",
            "Requirement already satisfied: scipy>=1.2.0 in ./opt/anaconda3/lib/python3.9/site-packages (from fiftyone-brain<0.9,>=0.8->fiftyone) (1.7.1)\n",
            "Requirement already satisfied: h2>=3.1.0 in ./opt/anaconda3/lib/python3.9/site-packages (from hypercorn>=0.13.2->fiftyone) (4.1.0)\n",
            "Requirement already satisfied: toml in ./opt/anaconda3/lib/python3.9/site-packages (from hypercorn>=0.13.2->fiftyone) (0.10.2)\n",
            "Requirement already satisfied: wsproto>=0.14.0 in ./opt/anaconda3/lib/python3.9/site-packages (from hypercorn>=0.13.2->fiftyone) (1.1.0)\n",
            "Requirement already satisfied: h11 in ./opt/anaconda3/lib/python3.9/site-packages (from hypercorn>=0.13.2->fiftyone) (0.12.0)\n",
            "Requirement already satisfied: priority in ./opt/anaconda3/lib/python3.9/site-packages (from hypercorn>=0.13.2->fiftyone) (2.0.0)\n",
            "Requirement already satisfied: hyperframe<7,>=6.0 in ./opt/anaconda3/lib/python3.9/site-packages (from h2>=3.1.0->hypercorn>=0.13.2->fiftyone) (6.0.1)\n",
            "Requirement already satisfied: hpack<5,>=4.0 in ./opt/anaconda3/lib/python3.9/site-packages (from h2>=3.1.0->hypercorn>=0.13.2->fiftyone) (4.0.0)\n",
            "Requirement already satisfied: MarkupSafe>=2.0 in ./opt/anaconda3/lib/python3.9/site-packages (from Jinja2>=3->fiftyone) (2.1.1)\n",
            "Requirement already satisfied: six in ./opt/anaconda3/lib/python3.9/site-packages (from plotly<5,>=4.14->fiftyone) (1.16.0)\n",
            "Requirement already satisfied: httpx>=0.10.0 in ./opt/anaconda3/lib/python3.9/site-packages (from universal-analytics-python3<2,>=1.0.1->fiftyone) (0.23.0)\n",
            "Requirement already satisfied: certifi in ./opt/anaconda3/lib/python3.9/site-packages (from httpx>=0.10.0->universal-analytics-python3<2,>=1.0.1->fiftyone) (2021.10.8)\n",
            "Requirement already satisfied: rfc3986[idna2008]<2,>=1.3 in ./opt/anaconda3/lib/python3.9/site-packages (from httpx>=0.10.0->universal-analytics-python3<2,>=1.0.1->fiftyone) (1.5.0)\n",
            "Requirement already satisfied: httpcore<0.16.0,>=0.15.0 in ./opt/anaconda3/lib/python3.9/site-packages (from httpx>=0.10.0->universal-analytics-python3<2,>=1.0.1->fiftyone) (0.15.0)\n",
            "Requirement already satisfied: dill in ./opt/anaconda3/lib/python3.9/site-packages (from voxel51-eta<0.8,>=0.7.1->fiftyone) (0.3.5.1)\n",
            "Requirement already satisfied: patool in ./opt/anaconda3/lib/python3.9/site-packages (from voxel51-eta<0.8,>=0.7.1->fiftyone) (1.12)\n",
            "Requirement already satisfied: requests in ./opt/anaconda3/lib/python3.9/site-packages (from voxel51-eta<0.8,>=0.7.1->fiftyone) (2.26.0)\n",
            "Requirement already satisfied: urllib3 in ./opt/anaconda3/lib/python3.9/site-packages (from voxel51-eta<0.8,>=0.7.1->fiftyone) (1.26.7)\n",
            "Requirement already satisfied: glob2 in ./opt/anaconda3/lib/python3.9/site-packages (from voxel51-eta<0.8,>=0.7.1->fiftyone) (0.7)\n",
            "Requirement already satisfied: sortedcontainers in ./opt/anaconda3/lib/python3.9/site-packages (from voxel51-eta<0.8,>=0.7.1->fiftyone) (2.4.0)\n",
            "Requirement already satisfied: tzlocal in ./opt/anaconda3/lib/python3.9/site-packages (from voxel51-eta<0.8,>=0.7.1->fiftyone) (4.2)\n",
            "Requirement already satisfied: s3transfer<0.7.0,>=0.6.0 in ./opt/anaconda3/lib/python3.9/site-packages (from boto3->fiftyone) (0.6.0)\n",
            "Requirement already satisfied: jmespath<2.0.0,>=0.7.1 in ./opt/anaconda3/lib/python3.9/site-packages (from boto3->fiftyone) (1.0.1)\n",
            "Requirement already satisfied: botocore<1.28.0,>=1.27.24 in ./opt/anaconda3/lib/python3.9/site-packages (from boto3->fiftyone) (1.27.24)\n",
            "Requirement already satisfied: wrapt<2,>=1.10 in ./opt/anaconda3/lib/python3.9/site-packages (from Deprecated->fiftyone) (1.12.1)\n",
            "Requirement already satisfied: dnspython>=1.15.0 in ./opt/anaconda3/lib/python3.9/site-packages (from eventlet->fiftyone) (2.2.1)\n",
            "Requirement already satisfied: greenlet>=0.3 in ./opt/anaconda3/lib/python3.9/site-packages (from eventlet->fiftyone) (1.1.1)\n",
            "Requirement already satisfied: pyparsing>=2.2.1 in ./opt/anaconda3/lib/python3.9/site-packages (from matplotlib->fiftyone) (3.0.4)\n",
            "Requirement already satisfied: cycler>=0.10 in ./opt/anaconda3/lib/python3.9/site-packages (from matplotlib->fiftyone) (0.10.0)\n",
            "Requirement already satisfied: kiwisolver>=1.0.1 in ./opt/anaconda3/lib/python3.9/site-packages (from matplotlib->fiftyone) (1.3.1)\n",
            "Requirement already satisfied: charset-normalizer~=2.0.0 in ./opt/anaconda3/lib/python3.9/site-packages (from requests->voxel51-eta<0.8,>=0.7.1->fiftyone) (2.0.4)\n",
            "Requirement already satisfied: networkx>=2.0 in ./opt/anaconda3/lib/python3.9/site-packages (from scikit-image->fiftyone) (2.6.3)\n",
            "Requirement already satisfied: imageio>=2.3.0 in ./opt/anaconda3/lib/python3.9/site-packages (from scikit-image->fiftyone) (2.9.0)\n",
            "Requirement already satisfied: tifffile>=2019.7.26 in ./opt/anaconda3/lib/python3.9/site-packages (from scikit-image->fiftyone) (2021.7.2)\n",
            "Requirement already satisfied: PyWavelets>=1.1.1 in ./opt/anaconda3/lib/python3.9/site-packages (from scikit-image->fiftyone) (1.1.1)\n",
            "Requirement already satisfied: joblib>=0.11 in ./opt/anaconda3/lib/python3.9/site-packages (from scikit-learn->fiftyone) (1.1.0)\n",
            "Requirement already satisfied: threadpoolctl>=2.0.0 in ./opt/anaconda3/lib/python3.9/site-packages (from scikit-learn->fiftyone) (2.2.0)\n",
            "Requirement already satisfied: pytz-deprecation-shim in ./opt/anaconda3/lib/python3.9/site-packages (from tzlocal->voxel51-eta<0.8,>=0.7.1->fiftyone) (0.1.0.post0)\n",
            "Requirement already satisfied: tzdata in ./opt/anaconda3/lib/python3.9/site-packages (from pytz-deprecation-shim->tzlocal->voxel51-eta<0.8,>=0.7.1->fiftyone) (2022.1)\n",
            "Requirement already satisfied: pandas in ./opt/anaconda3/lib/python3.9/site-packages (1.3.4)\n",
            "Requirement already satisfied: python-dateutil>=2.7.3 in ./opt/anaconda3/lib/python3.9/site-packages (from pandas) (2.8.2)\n",
            "Requirement already satisfied: pytz>=2017.3 in ./opt/anaconda3/lib/python3.9/site-packages (from pandas) (2021.3)\n",
            "Requirement already satisfied: numpy>=1.17.3 in ./opt/anaconda3/lib/python3.9/site-packages (from pandas) (1.20.3)\n",
            "Requirement already satisfied: six>=1.5 in ./opt/anaconda3/lib/python3.9/site-packages (from python-dateutil>=2.7.3->pandas) (1.16.0)\n",
            "Requirement already satisfied: pmdarima in ./opt/anaconda3/lib/python3.9/site-packages (1.8.5)\n",
            "Requirement already satisfied: statsmodels!=0.12.0,>=0.11 in ./opt/anaconda3/lib/python3.9/site-packages (from pmdarima) (0.12.2)\n",
            "Requirement already satisfied: scipy>=1.3.2 in ./opt/anaconda3/lib/python3.9/site-packages (from pmdarima) (1.7.1)\n",
            "Requirement already satisfied: pandas>=0.19 in ./opt/anaconda3/lib/python3.9/site-packages (from pmdarima) (1.3.4)\n",
            "Requirement already satisfied: setuptools!=50.0.0,>=38.6.0 in ./opt/anaconda3/lib/python3.9/site-packages (from pmdarima) (58.0.4)\n",
            "Requirement already satisfied: scikit-learn>=0.22 in ./opt/anaconda3/lib/python3.9/site-packages (from pmdarima) (0.24.2)\n",
            "Requirement already satisfied: Cython!=0.29.18,>=0.29 in ./opt/anaconda3/lib/python3.9/site-packages (from pmdarima) (0.29.24)\n",
            "Requirement already satisfied: urllib3 in ./opt/anaconda3/lib/python3.9/site-packages (from pmdarima) (1.26.7)\n",
            "Requirement already satisfied: joblib>=0.11 in ./opt/anaconda3/lib/python3.9/site-packages (from pmdarima) (1.1.0)\n",
            "Requirement already satisfied: numpy>=1.19.3 in ./opt/anaconda3/lib/python3.9/site-packages (from pmdarima) (1.20.3)\n",
            "Requirement already satisfied: python-dateutil>=2.7.3 in ./opt/anaconda3/lib/python3.9/site-packages (from pandas>=0.19->pmdarima) (2.8.2)\n",
            "Requirement already satisfied: pytz>=2017.3 in ./opt/anaconda3/lib/python3.9/site-packages (from pandas>=0.19->pmdarima) (2021.3)\n",
            "Requirement already satisfied: six>=1.5 in ./opt/anaconda3/lib/python3.9/site-packages (from python-dateutil>=2.7.3->pandas>=0.19->pmdarima) (1.16.0)\n",
            "Requirement already satisfied: threadpoolctl>=2.0.0 in ./opt/anaconda3/lib/python3.9/site-packages (from scikit-learn>=0.22->pmdarima) (2.2.0)\n",
            "Requirement already satisfied: patsy>=0.5 in ./opt/anaconda3/lib/python3.9/site-packages (from statsmodels!=0.12.0,>=0.11->pmdarima) (0.5.2)\n",
            "Requirement already satisfied: seaborn in ./opt/anaconda3/lib/python3.9/site-packages (0.11.2)\n",
            "Requirement already satisfied: scipy>=1.0 in ./opt/anaconda3/lib/python3.9/site-packages (from seaborn) (1.7.1)\n",
            "Requirement already satisfied: pandas>=0.23 in ./opt/anaconda3/lib/python3.9/site-packages (from seaborn) (1.3.4)\n",
            "Requirement already satisfied: matplotlib>=2.2 in ./opt/anaconda3/lib/python3.9/site-packages (from seaborn) (3.4.3)\n",
            "Requirement already satisfied: numpy>=1.15 in ./opt/anaconda3/lib/python3.9/site-packages (from seaborn) (1.20.3)\n",
            "Requirement already satisfied: python-dateutil>=2.7 in ./opt/anaconda3/lib/python3.9/site-packages (from matplotlib>=2.2->seaborn) (2.8.2)\n",
            "Requirement already satisfied: cycler>=0.10 in ./opt/anaconda3/lib/python3.9/site-packages (from matplotlib>=2.2->seaborn) (0.10.0)\n",
            "Requirement already satisfied: pyparsing>=2.2.1 in ./opt/anaconda3/lib/python3.9/site-packages (from matplotlib>=2.2->seaborn) (3.0.4)\n",
            "Requirement already satisfied: pillow>=6.2.0 in ./opt/anaconda3/lib/python3.9/site-packages (from matplotlib>=2.2->seaborn) (8.4.0)\n",
            "Requirement already satisfied: kiwisolver>=1.0.1 in ./opt/anaconda3/lib/python3.9/site-packages (from matplotlib>=2.2->seaborn) (1.3.1)\n",
            "Requirement already satisfied: six in ./opt/anaconda3/lib/python3.9/site-packages (from cycler>=0.10->matplotlib>=2.2->seaborn) (1.16.0)\n",
            "Requirement already satisfied: pytz>=2017.3 in ./opt/anaconda3/lib/python3.9/site-packages (from pandas>=0.23->seaborn) (2021.3)\n",
            "Requirement already satisfied: statsmodels in ./opt/anaconda3/lib/python3.9/site-packages (0.12.2)\n",
            "Requirement already satisfied: scipy>=1.1 in ./opt/anaconda3/lib/python3.9/site-packages (from statsmodels) (1.7.1)\n",
            "Requirement already satisfied: patsy>=0.5 in ./opt/anaconda3/lib/python3.9/site-packages (from statsmodels) (0.5.2)\n",
            "Requirement already satisfied: numpy>=1.15 in ./opt/anaconda3/lib/python3.9/site-packages (from statsmodels) (1.20.3)\n",
            "Requirement already satisfied: pandas>=0.21 in ./opt/anaconda3/lib/python3.9/site-packages (from statsmodels) (1.3.4)\n",
            "Requirement already satisfied: python-dateutil>=2.7.3 in ./opt/anaconda3/lib/python3.9/site-packages (from pandas>=0.21->statsmodels) (2.8.2)\n",
            "Requirement already satisfied: pytz>=2017.3 in ./opt/anaconda3/lib/python3.9/site-packages (from pandas>=0.21->statsmodels) (2021.3)\n",
            "Requirement already satisfied: six in ./opt/anaconda3/lib/python3.9/site-packages (from patsy>=0.5->statsmodels) (1.16.0)\n",
            "Requirement already satisfied: yfinance in ./opt/anaconda3/lib/python3.9/site-packages (0.1.72)\n",
            "Requirement already satisfied: lxml>=4.5.1 in ./opt/anaconda3/lib/python3.9/site-packages (from yfinance) (4.6.3)\n",
            "Requirement already satisfied: multitasking>=0.0.7 in ./opt/anaconda3/lib/python3.9/site-packages (from yfinance) (0.0.11)\n",
            "Requirement already satisfied: requests>=2.26 in ./opt/anaconda3/lib/python3.9/site-packages (from yfinance) (2.26.0)\n",
            "Requirement already satisfied: pandas>=0.24.0 in ./opt/anaconda3/lib/python3.9/site-packages (from yfinance) (1.3.4)\n",
            "Requirement already satisfied: numpy>=1.15 in ./opt/anaconda3/lib/python3.9/site-packages (from yfinance) (1.20.3)\n",
            "Requirement already satisfied: python-dateutil>=2.7.3 in ./opt/anaconda3/lib/python3.9/site-packages (from pandas>=0.24.0->yfinance) (2.8.2)\n",
            "Requirement already satisfied: pytz>=2017.3 in ./opt/anaconda3/lib/python3.9/site-packages (from pandas>=0.24.0->yfinance) (2021.3)\n",
            "Requirement already satisfied: six>=1.5 in ./opt/anaconda3/lib/python3.9/site-packages (from python-dateutil>=2.7.3->pandas>=0.24.0->yfinance) (1.16.0)\n",
            "Requirement already satisfied: idna<4,>=2.5 in ./opt/anaconda3/lib/python3.9/site-packages (from requests>=2.26->yfinance) (3.2)\n",
            "Requirement already satisfied: charset-normalizer~=2.0.0 in ./opt/anaconda3/lib/python3.9/site-packages (from requests>=2.26->yfinance) (2.0.4)\n",
            "Requirement already satisfied: certifi>=2017.4.17 in ./opt/anaconda3/lib/python3.9/site-packages (from requests>=2.26->yfinance) (2021.10.8)\n",
            "Requirement already satisfied: urllib3<1.27,>=1.21.1 in ./opt/anaconda3/lib/python3.9/site-packages (from requests>=2.26->yfinance) (1.26.7)\n"
          ]
        }
      ],
      "source": [
        "!pip install fiftyone\n",
        "!pip install pandas \n",
        "!pip install pmdarima\n",
        "!pip install seaborn \n",
        "!pip install statsmodels \n",
        "!pip install yfinance\n",
        "import statsmodels.api as sm\n",
        "import yfinance\n",
        "import pandas as pd\n",
        "import glob\n",
        "import numpy as np\n",
        "import seaborn as sn\n",
        "import matplotlib.pyplot as plt\n",
        "from statsmodels.graphics.tsaplots import plot_pacf, plot_acf\n",
        "from statsmodels.tsa.statespace.sarimax import SARIMAX\n",
        "from statsmodels.tsa.stattools import pacf"
      ]
    },
    {
      "cell_type": "code",
      "execution_count": 11,
      "metadata": {
        "id": "qlhW43hJnQI1",
        "colab": {
          "base_uri": "https://localhost:8080/",
          "height": 273
        },
        "outputId": "84105940-3b2c-4366-cafc-86504ddb3760"
      },
      "outputs": [
        {
          "output_type": "stream",
          "name": "stdout",
          "text": [
            "[*********************100%***********************]  2 of 2 completed\n",
            "[*********************100%***********************]  1 of 1 completed\n"
          ]
        },
        {
          "output_type": "execute_result",
          "data": {
            "text/plain": [
              "                 Open       High        Low      Close    Volume\n",
              "Date                                                            \n",
              "2008-01-08  28.112010  28.112010  26.653751  27.038568   5343770\n",
              "2008-01-09  26.977806  27.949979  26.329691  27.366674   5576690\n",
              "2008-01-10  27.544911  28.598098  27.544911  27.873018  10035660\n",
              "2008-01-11  27.787950  28.148464  27.228952  27.828457   4510450\n",
              "2008-01-14  28.026945  28.274039  27.605669  27.751495   4738180"
            ],
            "text/html": [
              "<div>\n",
              "<style scoped>\n",
              "    .dataframe tbody tr th:only-of-type {\n",
              "        vertical-align: middle;\n",
              "    }\n",
              "\n",
              "    .dataframe tbody tr th {\n",
              "        vertical-align: top;\n",
              "    }\n",
              "\n",
              "    .dataframe thead th {\n",
              "        text-align: right;\n",
              "    }\n",
              "</style>\n",
              "<table border=\"1\" class=\"dataframe\">\n",
              "  <thead>\n",
              "    <tr style=\"text-align: right;\">\n",
              "      <th></th>\n",
              "      <th>Open</th>\n",
              "      <th>High</th>\n",
              "      <th>Low</th>\n",
              "      <th>Close</th>\n",
              "      <th>Volume</th>\n",
              "    </tr>\n",
              "    <tr>\n",
              "      <th>Date</th>\n",
              "      <th></th>\n",
              "      <th></th>\n",
              "      <th></th>\n",
              "      <th></th>\n",
              "      <th></th>\n",
              "    </tr>\n",
              "  </thead>\n",
              "  <tbody>\n",
              "    <tr>\n",
              "      <th>2008-01-08</th>\n",
              "      <td>28.112010</td>\n",
              "      <td>28.112010</td>\n",
              "      <td>26.653751</td>\n",
              "      <td>27.038568</td>\n",
              "      <td>5343770</td>\n",
              "    </tr>\n",
              "    <tr>\n",
              "      <th>2008-01-09</th>\n",
              "      <td>26.977806</td>\n",
              "      <td>27.949979</td>\n",
              "      <td>26.329691</td>\n",
              "      <td>27.366674</td>\n",
              "      <td>5576690</td>\n",
              "    </tr>\n",
              "    <tr>\n",
              "      <th>2008-01-10</th>\n",
              "      <td>27.544911</td>\n",
              "      <td>28.598098</td>\n",
              "      <td>27.544911</td>\n",
              "      <td>27.873018</td>\n",
              "      <td>10035660</td>\n",
              "    </tr>\n",
              "    <tr>\n",
              "      <th>2008-01-11</th>\n",
              "      <td>27.787950</td>\n",
              "      <td>28.148464</td>\n",
              "      <td>27.228952</td>\n",
              "      <td>27.828457</td>\n",
              "      <td>4510450</td>\n",
              "    </tr>\n",
              "    <tr>\n",
              "      <th>2008-01-14</th>\n",
              "      <td>28.026945</td>\n",
              "      <td>28.274039</td>\n",
              "      <td>27.605669</td>\n",
              "      <td>27.751495</td>\n",
              "      <td>4738180</td>\n",
              "    </tr>\n",
              "  </tbody>\n",
              "</table>\n",
              "</div>"
            ]
          },
          "metadata": {},
          "execution_count": 11
        }
      ],
      "source": [
        "\n",
        "nifty_raw_data = yfinance.download (tickers = \"^NSEI ^GSPC\", start = \"2008-01-08\", \n",
        "                              end = \"2022-07-06\", interval = \"1d\", group_by = 'ticker', auto_adjust = True, treads = True)\n",
        "stocks_raw_data = yfinance.download (tickers = \"FEDERALBNK.NS\", start = \"2008-01-08\", \n",
        "                              end = \"2022-07-06\", interval = \"1d\", group_by = 'ticker', auto_adjust = True, treads = True)\n",
        "\n",
        "stocks_raw_data.head()"
      ]
    },
    {
      "cell_type": "code",
      "execution_count": 12,
      "metadata": {
        "id": "Hf5ecSx1nSxp"
      },
      "outputs": [],
      "source": [
        "df_comp = nifty_raw_data.copy()\n",
        "df_stock = stocks_raw_data.copy()\n",
        "df_comp['nifty'] = df_comp['^NSEI'].Close[:]\n",
        "df_comp['kpi'] = df_stock.Close[:]\n",
        "\n",
        "\n",
        "df_comp['Qkpi'] = df_stock.Volume[:]\n",
        "df_comp['spx'] = df_comp['^GSPC'].Close[:]\n",
        "df_comp = df_comp.iloc[1:]\n",
        "del df_comp['^GSPC']\n",
        "del df_comp['^NSEI']\n",
        "\n",
        "df_stock=df_stock.asfreq('b')\n",
        "df_stock=df_stock.fillna(method='ffill')\n",
        "\n",
        "df_comp=df_comp.asfreq('b')\n",
        "df_comp=df_comp.fillna(method='ffill')\n",
        "df_comp = df_comp[-len(df_stock):]"
      ]
    },
    {
      "cell_type": "code",
      "source": [
        "#spa\n",
        "df_comp['ret_spx'] = df_comp.spx.pct_change(1).mul(100)\n",
        "df_comp['norm_ret_spx'] = df_comp.ret_spx.div(df_comp.ret_spx[1])*100\n",
        "\n",
        "\n",
        "df_comp['ret_nifty'] = df_comp.nifty.pct_change(1).mul(100)\n",
        "df_comp['norm_ret_nifty'] = df_comp.ret_nifty.div(df_comp.ret_nifty[1])*100\n",
        "\n",
        "# # kpi\n",
        "df_comp['ret_kpi'] = df_comp.kpi.pct_change(1).mul(100)\n",
        "df_comp['norm_ret_kpi'] = df_comp.ret_kpi.div(df_comp.ret_kpi[1])*100\n",
        "\n",
        "# # kpi volumn\n",
        "df_comp['ret_Qkpi'] = df_comp.Qkpi.pct_change(1).mul(100)\n",
        "df_comp['norm_ret_Qkpi'] = pd.DataFrame(df_comp.ret_Qkpi.div(df_comp.ret_Qkpi[1])*100)\n"
      ],
      "metadata": {
        "id": "Kbhfa-ha2w-J"
      },
      "execution_count": 13,
      "outputs": []
    },
    {
      "cell_type": "code",
      "source": [
        "\n",
        "#divide into train and validation set\n",
        "\n",
        "size = int(len(df_comp)*0.8)\n",
        "train, valid = df_comp.iloc[:size], df_comp.iloc[size:]\n",
        "\n",
        "train.tail()"
      ],
      "metadata": {
        "id": "-O5i7Snn201O",
        "colab": {
          "base_uri": "https://localhost:8080/",
          "height": 358
        },
        "outputId": "ca65cdca-8f64-475a-f8c5-67d0b9584f23"
      },
      "execution_count": 72,
      "outputs": [
        {
          "output_type": "execute_result",
          "data": {
            "text/plain": [
              "                   nifty        kpi        Qkpi          spx   ret_spx  \\\n",
              "                                                                         \n",
              "Date                                                                     \n",
              "2019-08-05  10862.599609  86.697594  14302691.0  2844.739990 -2.977782   \n",
              "2019-08-06  10948.250000  87.441566   9389820.0  2881.770020  1.301702   \n",
              "2019-08-07  10855.500000  86.102417   9260483.0  2883.979980  0.076688   \n",
              "2019-08-08  11032.450195  86.598396  12729824.0  2938.090088  1.876230   \n",
              "2019-08-09  11109.650391  87.193573  11961334.0  2918.649902 -0.661661   \n",
              "\n",
              "           norm_ret_spx ret_nifty norm_ret_nifty   ret_kpi norm_ret_kpi  \\\n",
              "                                                                          \n",
              "Date                                                                      \n",
              "2019-08-05  -218.567514 -1.225295     486.083612  0.114549     9.439739   \n",
              "2019-08-06    95.544169  0.788489    -312.799329  0.858124    70.716315   \n",
              "2019-08-07     5.628828 -0.847167     336.077509 -1.531479  -126.206216   \n",
              "2019-08-08   137.714245  1.630051    -646.653231  0.576034    47.469847   \n",
              "2019-08-09   -48.565516  0.699756    -277.598210  0.687284    56.637710   \n",
              "\n",
              "             ret_Qkpi norm_ret_Qkpi  \n",
              "                                     \n",
              "Date                                 \n",
              "2019-08-05   5.472475    125.552334  \n",
              "2019-08-06 -34.349277   -788.058723  \n",
              "2019-08-07  -1.377417    -31.601412  \n",
              "2019-08-08  37.463931    859.516713  \n",
              "2019-08-09  -6.036926   -138.502240  "
            ],
            "text/html": [
              "<div>\n",
              "<style scoped>\n",
              "    .dataframe tbody tr th:only-of-type {\n",
              "        vertical-align: middle;\n",
              "    }\n",
              "\n",
              "    .dataframe tbody tr th {\n",
              "        vertical-align: top;\n",
              "    }\n",
              "\n",
              "    .dataframe thead tr th {\n",
              "        text-align: left;\n",
              "    }\n",
              "\n",
              "    .dataframe thead tr:last-of-type th {\n",
              "        text-align: right;\n",
              "    }\n",
              "</style>\n",
              "<table border=\"1\" class=\"dataframe\">\n",
              "  <thead>\n",
              "    <tr>\n",
              "      <th></th>\n",
              "      <th>nifty</th>\n",
              "      <th>kpi</th>\n",
              "      <th>Qkpi</th>\n",
              "      <th>spx</th>\n",
              "      <th>ret_spx</th>\n",
              "      <th>norm_ret_spx</th>\n",
              "      <th>ret_nifty</th>\n",
              "      <th>norm_ret_nifty</th>\n",
              "      <th>ret_kpi</th>\n",
              "      <th>norm_ret_kpi</th>\n",
              "      <th>ret_Qkpi</th>\n",
              "      <th>norm_ret_Qkpi</th>\n",
              "    </tr>\n",
              "    <tr>\n",
              "      <th></th>\n",
              "      <th></th>\n",
              "      <th></th>\n",
              "      <th></th>\n",
              "      <th></th>\n",
              "      <th></th>\n",
              "      <th></th>\n",
              "      <th></th>\n",
              "      <th></th>\n",
              "      <th></th>\n",
              "      <th></th>\n",
              "      <th></th>\n",
              "      <th></th>\n",
              "    </tr>\n",
              "    <tr>\n",
              "      <th>Date</th>\n",
              "      <th></th>\n",
              "      <th></th>\n",
              "      <th></th>\n",
              "      <th></th>\n",
              "      <th></th>\n",
              "      <th></th>\n",
              "      <th></th>\n",
              "      <th></th>\n",
              "      <th></th>\n",
              "      <th></th>\n",
              "      <th></th>\n",
              "      <th></th>\n",
              "    </tr>\n",
              "  </thead>\n",
              "  <tbody>\n",
              "    <tr>\n",
              "      <th>2019-08-05</th>\n",
              "      <td>10862.599609</td>\n",
              "      <td>86.697594</td>\n",
              "      <td>14302691.0</td>\n",
              "      <td>2844.739990</td>\n",
              "      <td>-2.977782</td>\n",
              "      <td>-218.567514</td>\n",
              "      <td>-1.225295</td>\n",
              "      <td>486.083612</td>\n",
              "      <td>0.114549</td>\n",
              "      <td>9.439739</td>\n",
              "      <td>5.472475</td>\n",
              "      <td>125.552334</td>\n",
              "    </tr>\n",
              "    <tr>\n",
              "      <th>2019-08-06</th>\n",
              "      <td>10948.250000</td>\n",
              "      <td>87.441566</td>\n",
              "      <td>9389820.0</td>\n",
              "      <td>2881.770020</td>\n",
              "      <td>1.301702</td>\n",
              "      <td>95.544169</td>\n",
              "      <td>0.788489</td>\n",
              "      <td>-312.799329</td>\n",
              "      <td>0.858124</td>\n",
              "      <td>70.716315</td>\n",
              "      <td>-34.349277</td>\n",
              "      <td>-788.058723</td>\n",
              "    </tr>\n",
              "    <tr>\n",
              "      <th>2019-08-07</th>\n",
              "      <td>10855.500000</td>\n",
              "      <td>86.102417</td>\n",
              "      <td>9260483.0</td>\n",
              "      <td>2883.979980</td>\n",
              "      <td>0.076688</td>\n",
              "      <td>5.628828</td>\n",
              "      <td>-0.847167</td>\n",
              "      <td>336.077509</td>\n",
              "      <td>-1.531479</td>\n",
              "      <td>-126.206216</td>\n",
              "      <td>-1.377417</td>\n",
              "      <td>-31.601412</td>\n",
              "    </tr>\n",
              "    <tr>\n",
              "      <th>2019-08-08</th>\n",
              "      <td>11032.450195</td>\n",
              "      <td>86.598396</td>\n",
              "      <td>12729824.0</td>\n",
              "      <td>2938.090088</td>\n",
              "      <td>1.876230</td>\n",
              "      <td>137.714245</td>\n",
              "      <td>1.630051</td>\n",
              "      <td>-646.653231</td>\n",
              "      <td>0.576034</td>\n",
              "      <td>47.469847</td>\n",
              "      <td>37.463931</td>\n",
              "      <td>859.516713</td>\n",
              "    </tr>\n",
              "    <tr>\n",
              "      <th>2019-08-09</th>\n",
              "      <td>11109.650391</td>\n",
              "      <td>87.193573</td>\n",
              "      <td>11961334.0</td>\n",
              "      <td>2918.649902</td>\n",
              "      <td>-0.661661</td>\n",
              "      <td>-48.565516</td>\n",
              "      <td>0.699756</td>\n",
              "      <td>-277.598210</td>\n",
              "      <td>0.687284</td>\n",
              "      <td>56.637710</td>\n",
              "      <td>-6.036926</td>\n",
              "      <td>-138.502240</td>\n",
              "    </tr>\n",
              "  </tbody>\n",
              "</table>\n",
              "</div>"
            ]
          },
          "metadata": {},
          "execution_count": 72
        }
      ]
    },
    {
      "cell_type": "code",
      "execution_count": 15,
      "metadata": {
        "id": "YJ5ou4A9oL68"
      },
      "outputs": [],
      "source": [
        "from pmdarima.arima import auto_arima"
      ]
    },
    {
      "cell_type": "code",
      "execution_count": 73,
      "metadata": {
        "id": "JXTjd7sdpHlI",
        "colab": {
          "base_uri": "https://localhost:8080/"
        },
        "outputId": "e63d9c97-2bfe-4f57-9c8b-4d1b400f8431"
      },
      "outputs": [
        {
          "output_type": "stream",
          "name": "stdout",
          "text": [
            "Performing stepwise search to minimize aic\n",
            " ARIMA(2,1,1)(1,0,1)[12] intercept   : AIC=12852.695, Time=4.29 sec\n",
            " ARIMA(0,1,0)(0,0,0)[12] intercept   : AIC=14512.127, Time=1.06 sec\n",
            " ARIMA(1,1,0)(1,0,0)[12] intercept   : AIC=13704.720, Time=2.90 sec\n",
            " ARIMA(0,1,1)(0,0,1)[12] intercept   : AIC=12893.808, Time=2.47 sec\n",
            " ARIMA(0,1,0)(0,0,0)[12]             : AIC=35706.450, Time=0.78 sec\n",
            " ARIMA(2,1,1)(0,0,1)[12] intercept   : AIC=12850.698, Time=3.07 sec\n",
            " ARIMA(2,1,1)(0,0,0)[12] intercept   : AIC=12851.490, Time=1.60 sec\n",
            " ARIMA(2,1,1)(0,0,2)[12] intercept   : AIC=12852.666, Time=8.15 sec\n",
            " ARIMA(2,1,1)(1,0,0)[12] intercept   : AIC=12851.055, Time=3.51 sec\n",
            " ARIMA(2,1,1)(1,0,2)[12] intercept   : AIC=12854.748, Time=9.45 sec\n",
            " ARIMA(1,1,1)(0,0,1)[12] intercept   : AIC=12849.580, Time=3.09 sec\n",
            " ARIMA(1,1,1)(0,0,0)[12] intercept   : AIC=12850.381, Time=1.36 sec\n",
            " ARIMA(1,1,1)(1,0,1)[12] intercept   : AIC=12851.576, Time=3.13 sec\n",
            " ARIMA(1,1,1)(0,0,2)[12] intercept   : AIC=12851.547, Time=6.43 sec\n",
            " ARIMA(1,1,1)(1,0,0)[12] intercept   : AIC=12849.933, Time=2.72 sec\n",
            " ARIMA(1,1,1)(1,0,2)[12] intercept   : AIC=12853.628, Time=7.28 sec\n",
            " ARIMA(1,1,0)(0,0,1)[12] intercept   : AIC=13705.278, Time=2.41 sec\n",
            " ARIMA(1,1,2)(0,0,1)[12] intercept   : AIC=12704.694, Time=3.05 sec\n",
            " ARIMA(1,1,2)(0,0,0)[12] intercept   : AIC=12704.403, Time=1.62 sec\n",
            " ARIMA(1,1,2)(1,0,0)[12] intercept   : AIC=12705.588, Time=2.98 sec\n",
            " ARIMA(1,1,2)(1,0,1)[12] intercept   : AIC=12706.689, Time=3.40 sec\n",
            " ARIMA(0,1,2)(0,0,0)[12] intercept   : AIC=12674.789, Time=1.40 sec\n",
            " ARIMA(0,1,2)(1,0,0)[12] intercept   : AIC=12676.324, Time=2.51 sec\n",
            " ARIMA(0,1,2)(0,0,1)[12] intercept   : AIC=12675.343, Time=2.81 sec\n",
            " ARIMA(0,1,2)(1,0,1)[12] intercept   : AIC=12677.361, Time=3.11 sec\n",
            " ARIMA(0,1,1)(0,0,0)[12] intercept   : AIC=12895.075, Time=1.19 sec\n",
            " ARIMA(0,1,3)(0,0,0)[12] intercept   : AIC=12597.431, Time=1.65 sec\n",
            " ARIMA(0,1,3)(1,0,0)[12] intercept   : AIC=12598.912, Time=6.84 sec\n",
            " ARIMA(0,1,3)(0,0,1)[12] intercept   : AIC=12597.915, Time=3.58 sec\n",
            " ARIMA(0,1,3)(1,0,1)[12] intercept   : AIC=12600.000, Time=3.96 sec\n"
          ]
        },
        {
          "output_type": "stream",
          "name": "stderr",
          "text": [
            "/Users/vipinv/opt/anaconda3/lib/python3.9/site-packages/statsmodels/tsa/statespace/sarimax.py:1890: RuntimeWarning: divide by zero encountered in reciprocal\n",
            "  return np.roots(self.polynomial_reduced_ar)**-1\n",
            "/Users/vipinv/opt/anaconda3/lib/python3.9/site-packages/statsmodels/tsa/statespace/sarimax.py:1897: RuntimeWarning: divide by zero encountered in reciprocal\n",
            "  return np.roots(self.polynomial_reduced_ma)**-1\n"
          ]
        },
        {
          "output_type": "stream",
          "name": "stdout",
          "text": [
            " ARIMA(1,1,3)(0,0,0)[12] intercept   : AIC=15136.345, Time=2.10 sec\n",
            " ARIMA(0,1,4)(0,0,0)[12] intercept   : AIC=12557.815, Time=1.94 sec\n",
            " ARIMA(0,1,4)(1,0,0)[12] intercept   : AIC=12558.960, Time=7.25 sec\n",
            " ARIMA(0,1,4)(0,0,1)[12] intercept   : AIC=12557.736, Time=4.14 sec\n",
            " ARIMA(0,1,4)(1,0,1)[12] intercept   : AIC=12560.512, Time=4.49 sec\n",
            " ARIMA(0,1,4)(0,0,2)[12] intercept   : AIC=12559.751, Time=10.70 sec\n",
            " ARIMA(0,1,4)(1,0,2)[12] intercept   : AIC=12562.679, Time=10.88 sec\n",
            " ARIMA(1,1,4)(0,0,1)[12] intercept   : AIC=12586.479, Time=11.27 sec\n"
          ]
        },
        {
          "output_type": "stream",
          "name": "stderr",
          "text": [
            "/Users/vipinv/opt/anaconda3/lib/python3.9/site-packages/statsmodels/tsa/statespace/sarimax.py:1897: RuntimeWarning: invalid value encountered in reciprocal\n",
            "  return np.roots(self.polynomial_reduced_ma)**-1\n"
          ]
        },
        {
          "output_type": "stream",
          "name": "stdout",
          "text": [
            " ARIMA(0,1,5)(0,0,1)[12] intercept   : AIC=15207.276, Time=5.05 sec\n"
          ]
        },
        {
          "output_type": "stream",
          "name": "stderr",
          "text": [
            "/Users/vipinv/opt/anaconda3/lib/python3.9/site-packages/statsmodels/tsa/statespace/sarimax.py:1890: RuntimeWarning: divide by zero encountered in reciprocal\n",
            "  return np.roots(self.polynomial_reduced_ar)**-1\n",
            "/Users/vipinv/opt/anaconda3/lib/python3.9/site-packages/statsmodels/tsa/statespace/sarimax.py:1897: RuntimeWarning: invalid value encountered in reciprocal\n",
            "  return np.roots(self.polynomial_reduced_ma)**-1\n"
          ]
        },
        {
          "output_type": "stream",
          "name": "stdout",
          "text": [
            " ARIMA(1,1,3)(0,0,1)[12] intercept   : AIC=15129.037, Time=4.03 sec\n",
            " ARIMA(1,1,5)(0,0,1)[12] intercept   : AIC=12532.796, Time=5.88 sec\n",
            " ARIMA(1,1,5)(0,0,0)[12] intercept   : AIC=12532.958, Time=2.46 sec\n",
            " ARIMA(1,1,5)(1,0,1)[12] intercept   : AIC=12535.099, Time=6.11 sec\n",
            " ARIMA(1,1,5)(0,0,2)[12] intercept   : AIC=12534.834, Time=12.02 sec\n",
            " ARIMA(1,1,5)(1,0,0)[12] intercept   : AIC=12533.714, Time=4.07 sec\n",
            " ARIMA(1,1,5)(1,0,2)[12] intercept   : AIC=12537.229, Time=13.16 sec\n",
            " ARIMA(2,1,5)(0,0,1)[12] intercept   : AIC=12555.785, Time=6.48 sec\n",
            " ARIMA(1,1,6)(0,0,1)[12] intercept   : AIC=12547.922, Time=5.97 sec\n",
            " ARIMA(0,1,6)(0,0,1)[12] intercept   : AIC=12528.018, Time=5.84 sec\n",
            " ARIMA(0,1,6)(0,0,0)[12] intercept   : AIC=12528.283, Time=2.47 sec\n",
            " ARIMA(0,1,6)(1,0,1)[12] intercept   : AIC=12530.266, Time=5.99 sec\n",
            " ARIMA(0,1,6)(0,0,2)[12] intercept   : AIC=12530.050, Time=12.01 sec\n",
            " ARIMA(0,1,6)(1,0,0)[12] intercept   : AIC=12528.847, Time=4.74 sec\n",
            " ARIMA(0,1,6)(1,0,2)[12] intercept   : AIC=12532.387, Time=12.40 sec\n",
            " ARIMA(0,1,6)(0,0,1)[12]             : AIC=12524.643, Time=5.06 sec\n",
            " ARIMA(0,1,6)(0,0,0)[12]             : AIC=12524.812, Time=2.23 sec\n",
            " ARIMA(0,1,6)(1,0,1)[12]             : AIC=12526.675, Time=5.43 sec\n",
            " ARIMA(0,1,6)(0,0,2)[12]             : AIC=12526.691, Time=10.84 sec\n",
            " ARIMA(0,1,6)(1,0,0)[12]             : AIC=12525.365, Time=3.86 sec\n",
            " ARIMA(0,1,6)(1,0,2)[12]             : AIC=12528.780, Time=11.83 sec\n"
          ]
        },
        {
          "output_type": "stream",
          "name": "stderr",
          "text": [
            "/Users/vipinv/opt/anaconda3/lib/python3.9/site-packages/statsmodels/tsa/statespace/sarimax.py:1897: RuntimeWarning: invalid value encountered in reciprocal\n",
            "  return np.roots(self.polynomial_reduced_ma)**-1\n"
          ]
        },
        {
          "output_type": "stream",
          "name": "stdout",
          "text": [
            " ARIMA(0,1,5)(0,0,1)[12]             : AIC=15205.275, Time=4.63 sec\n",
            " ARIMA(1,1,6)(0,0,1)[12]             : AIC=12545.798, Time=5.41 sec\n",
            " ARIMA(1,1,5)(0,0,1)[12]             : AIC=12529.045, Time=5.64 sec\n",
            "\n",
            "Best model:  ARIMA(0,1,6)(0,0,1)[12]          \n",
            "Total fit time: 318.331 seconds\n"
          ]
        }
      ],
      "source": [
        "para_index =1\n",
        "model = auto_arima(train.ret_kpi[para_index:],exogenous = train[['ret_nifty','Qkpi']][para_index:],start_q=1,max_p=6,max_q=6,m=12,seasonal=True,max_P=2, max_D=2,max_Q=2,\n",
        "                            max_d=2,trace=True,error_action='ignore',suppress_warnings=True,stepwise=True,information_criterion=\"aic\",alpha=0.05,scoring='mse')\n",
        "best_params = model.get_params()\n",
        "order = best_params['order']\n",
        "seasonal_order = best_params['seasonal_order']\n",
        "trend = best_params['trend']"
      ]
    },
    {
      "cell_type": "code",
      "execution_count": 74,
      "metadata": {
        "id": "mP3zP3a2p9a4",
        "colab": {
          "base_uri": "https://localhost:8080/"
        },
        "outputId": "8cd7b354-c2d2-45a5-d037-2adc0d19c21b"
      },
      "outputs": [
        {
          "output_type": "execute_result",
          "data": {
            "text/plain": [
              "ARIMA(order=(0, 1, 6), scoring_args={}, seasonal_order=(0, 0, 1, 12),\n",
              "      suppress_warnings=True, with_intercept=False)"
            ]
          },
          "metadata": {},
          "execution_count": 74
        }
      ],
      "source": [
        "model"
      ]
    },
    {
      "cell_type": "code",
      "execution_count": 75,
      "metadata": {
        "id": "zIJ5as5hpbcE"
      },
      "outputs": [],
      "source": [
        "df_auto_pred = pd.DataFrame(model.predict(n_periods = len(valid),\n",
        "                            exogenous = valid[['ret_nifty','Qkpi']]),\n",
        "                            index = valid.index)"
      ]
    },
    {
      "cell_type": "code",
      "execution_count": 76,
      "metadata": {
        "id": "_it76jC0qW7j",
        "colab": {
          "base_uri": "https://localhost:8080/",
          "height": 394
        },
        "outputId": "9183b7d8-34a7-4935-f588-a61ae631ddf1"
      },
      "outputs": [
        {
          "output_type": "display_data",
          "data": {
            "text/plain": [
              "<Figure size 1440x360 with 1 Axes>"
            ],
            "image/png": "[encoded data removed]"
          },
          "metadata": {
            "needs_background": "light"
          }
        }
      ],
      "source": [
        "df_auto_pred[-20:].plot(figsize = (20,5), color = \"red\")\n",
        "valid.ret_nifty[-20:].plot(color = \"blue\",label=\"Test Data\")\n",
        "plt.title(\"Auto Model Predictions vs Real Data\", size = 24)\n",
        "plt.show()"
      ]
    },
    {
      "cell_type": "code",
      "execution_count": 77,
      "metadata": {
        "id": "FbpIRFhApS6x",
        "colab": {
          "base_uri": "https://localhost:8080/"
        },
        "outputId": "a2966c11-05d4-409f-cbf7-43682466c3cc"
      },
      "outputs": [
        {
          "output_type": "stream",
          "name": "stderr",
          "text": [
            " This problem is unconstrained.\n"
          ]
        },
        {
          "output_type": "stream",
          "name": "stdout",
          "text": [
            "RUNNING THE L-BFGS-B CODE\n",
            "\n",
            "           * * *\n",
            "\n",
            "Machine precision = 2.220D-16\n",
            " N =           10     M =           10\n",
            "\n",
            "At X0         0 variables are exactly at the bounds\n",
            "\n",
            "At iterate    0    f=  2.06825D+00    |proj g|=  4.40246D+07\n"
          ]
        },
        {
          "output_type": "stream",
          "name": "stderr",
          "text": [
            "/Users/vipinv/opt/anaconda3/lib/python3.9/site-packages/statsmodels/base/model.py:566: ConvergenceWarning: Maximum Likelihood optimization failed to converge. Check mle_retvals\n",
            "  warnings.warn(\"Maximum Likelihood optimization failed to \"\n",
            "\n",
            " Line search cannot locate an adequate point after MAXLS\n",
            "  function and gradient evaluations.\n",
            "  Previous x, f and g restored.\n",
            " Possible causes: 1 error in function or gradient evaluation;\n",
            "                  2 rounding error dominate computation.\n"
          ]
        },
        {
          "output_type": "stream",
          "name": "stdout",
          "text": [
            "\n",
            "           * * *\n",
            "\n",
            "Tit   = total number of iterations\n",
            "Tnf   = total number of function evaluations\n",
            "Tnint = total number of segments explored during Cauchy searches\n",
            "Skip  = number of BFGS updates skipped\n",
            "Nact  = number of active bounds at final generalized Cauchy point\n",
            "Projg = norm of the final projected gradient\n",
            "F     = final function value\n",
            "\n",
            "           * * *\n",
            "\n",
            "   N    Tit     Tnf  Tnint  Skip  Nact     Projg        F\n",
            "   10      1     21      1     0     0   4.402D+07   2.068D+00\n",
            "  F =   2.0682506580588145     \n",
            "\n",
            "ABNORMAL_TERMINATION_IN_LNSRCH                              \n"
          ]
        }
      ],
      "source": [
        "\n",
        "new_model = sm.tsa.SARIMAX(train.ret_kpi[para_index:],order=order,seasonal_order=seasonal_order,trend=trend,\n",
        "                            exog = train[['ret_nifty','Qkpi']][para_index:])\n",
        "fit_sarima = new_model.fit()\n"
      ]
    },
    {
      "cell_type": "code",
      "source": [
        "# train.tail()\n",
        "limiter = 20\n",
        "prediction = fit_sarima.forecast(steps=limiter,exog=valid[['ret_nifty','Qkpi']][0:20], dynamic=True)\n",
        "print(prediction)"
      ],
      "metadata": {
        "id": "TAxtxj2OlOPZ",
        "colab": {
          "base_uri": "https://localhost:8080/"
        },
        "outputId": "21ecfb4f-2205-4ff3-f7d4-12bd5da2efe5"
      },
      "execution_count": 104,
      "outputs": [
        {
          "output_type": "stream",
          "name": "stdout",
          "text": [
            "2019-08-12   -0.208115\n",
            "2019-08-13   -1.418632\n",
            "2019-08-14    0.558223\n",
            "2019-08-15   -0.245172\n",
            "2019-08-16   -0.379789\n",
            "2019-08-19   -0.546409\n",
            "2019-08-20   -0.896735\n",
            "2019-08-21   -1.138374\n",
            "2019-08-22   -1.675431\n",
            "2019-08-23    0.792893\n",
            "2019-08-26    2.249199\n",
            "2019-08-27    0.328389\n",
            "2019-08-28   -0.599054\n",
            "2019-08-29   -0.677085\n",
            "2019-08-30    0.386911\n",
            "2019-09-02   -0.181672\n",
            "2019-09-03   -1.937458\n",
            "2019-09-04   -0.016253\n",
            "2019-09-05   -0.317697\n",
            "2019-09-06    0.348477\n",
            "Freq: B, Name: predicted_mean, dtype: float64\n"
          ]
        }
      ]
    },
    {
      "cell_type": "code",
      "execution_count": 105,
      "metadata": {
        "id": "lK-dQs5opVDC",
        "colab": {
          "base_uri": "https://localhost:8080/",
          "height": 369
        },
        "outputId": "4706eb16-f279-4a40-a1aa-e8e252845120"
      },
      "outputs": [
        {
          "output_type": "display_data",
          "data": {
            "text/plain": [
              "<Figure size 1440x360 with 1 Axes>"
            ],
            "image/png": "[encoded data removed]"
          },
          "metadata": {
            "needs_background": "light"
          }
        }
      ],
      "source": [
        "prediction_series = pd.Series(prediction)\n",
        "valid[0:limiter].ret_kpi.plot(color = \"blue\",figsize = (20,5))\n",
        "prediction_series.plot(color = \"red\")\n",
        "plt.show()"
      ]
    },
    {
      "cell_type": "code",
      "source": [
        ""
      ],
      "metadata": {
        "id": "T96JMoNdg4Sl"
      },
      "execution_count": 25,
      "outputs": []
    }
  ],
  "metadata": {
    "colab": {
      "collapsed_sections": [],
      "name": "working_real_data.ipynb",
      "provenance": [],
      "include_colab_link": true
    },
    "kernelspec": {
      "display_name": "Python 3",
      "name": "python3"
    },
    "language_info": {
      "name": "python"
    }
  },
  "nbformat": 4,
  "nbformat_minor": 0
}