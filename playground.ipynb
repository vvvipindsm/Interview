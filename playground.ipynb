{
  "cells": [
    {
      "cell_type": "markdown",
      "metadata": {
        "id": "view-in-github",
        "colab_type": "text"
      },
      "source": [
        "<a href=\"https://colab.research.google.com/github/vvvipindsm/Interview/blob/master/playground.ipynb\" target=\"_parent\"><img src=\"https://colab.research.google.com/assets/colab-badge.svg\" alt=\"Open In Colab\"/></a>"
      ]
    },
    {
      "cell_type": "code",
      "execution_count": 241,
      "metadata": {
        "colab": {
          "base_uri": "https://localhost:8080/"
        },
        "id": "DlHI5eiO9iUJ",
        "outputId": "ebe7f860-8e06-445c-b662-8666d3dbff2b"
      },
      "outputs": [
        {
          "output_type": "stream",
          "name": "stdout",
          "text": [
            "Looking in indexes: https://pypi.org/simple, https://us-python.pkg.dev/colab-wheels/public/simple/\n",
            "Requirement already satisfied: yfinance in /usr/local/lib/python3.7/dist-packages (0.1.72)\n",
            "Requirement already satisfied: numpy>=1.15 in /usr/local/lib/python3.7/dist-packages (from yfinance) (1.21.6)\n",
            "Requirement already satisfied: requests>=2.26 in /usr/local/lib/python3.7/dist-packages (from yfinance) (2.28.1)\n",
            "Requirement already satisfied: multitasking>=0.0.7 in /usr/local/lib/python3.7/dist-packages (from yfinance) (0.0.10)\n",
            "Requirement already satisfied: pandas>=0.24.0 in /usr/local/lib/python3.7/dist-packages (from yfinance) (1.3.5)\n",
            "Requirement already satisfied: lxml>=4.5.1 in /usr/local/lib/python3.7/dist-packages (from yfinance) (4.9.0)\n",
            "Requirement already satisfied: python-dateutil>=2.7.3 in /usr/local/lib/python3.7/dist-packages (from pandas>=0.24.0->yfinance) (2.8.2)\n",
            "Requirement already satisfied: pytz>=2017.3 in /usr/local/lib/python3.7/dist-packages (from pandas>=0.24.0->yfinance) (2022.1)\n",
            "Requirement already satisfied: six>=1.5 in /usr/local/lib/python3.7/dist-packages (from python-dateutil>=2.7.3->pandas>=0.24.0->yfinance) (1.15.0)\n",
            "Requirement already satisfied: charset-normalizer<3,>=2 in /usr/local/lib/python3.7/dist-packages (from requests>=2.26->yfinance) (2.0.12)\n",
            "Requirement already satisfied: idna<4,>=2.5 in /usr/local/lib/python3.7/dist-packages (from requests>=2.26->yfinance) (2.10)\n",
            "Requirement already satisfied: certifi>=2017.4.17 in /usr/local/lib/python3.7/dist-packages (from requests>=2.26->yfinance) (2022.6.15)\n",
            "Requirement already satisfied: urllib3<1.27,>=1.21.1 in /usr/local/lib/python3.7/dist-packages (from requests>=2.26->yfinance) (1.24.3)\n"
          ]
        }
      ],
      "source": [
        "\n",
        "import pandas as pd\n",
        "!pip install yfinance\n",
        "\n",
        "import matplotlib.pyplot as plt\n",
        "import warnings\n",
        "import yfinance\n",
        "\n",
        "warnings.filterwarnings('ignore')\n"
      ]
    },
    {
      "cell_type": "code",
      "execution_count": 242,
      "metadata": {
        "colab": {
          "base_uri": "https://localhost:8080/"
        },
        "id": "wiI6C0WFyJYt",
        "outputId": "2afcbd77-04de-4c4a-ab15-574476a46488"
      },
      "outputs": [
        {
          "output_type": "stream",
          "name": "stdout",
          "text": [
            "[*********************100%***********************]  1 of 1 completed\n",
            "[*********************100%***********************]  1 of 1 completed\n"
          ]
        }
      ],
      "source": [
        "nifty_raw_data = yfinance.download (tickers = \"^NSEI\", start = \"2000-01-08\", \n",
        "                              end = \"2022-06-27\", interval = \"1d\", group_by = 'ticker', auto_adjust = True, treads = True)\n",
        "stocks_raw_data = yfinance.download (tickers = \"KPIGREEN.NS\", start = \"2000-01-08\", \n",
        "                              end = \"2022-06-27\", interval = \"1d\", group_by = 'ticker', auto_adjust = True, treads = True)\n",
        "\n",
        "\n"
      ]
    },
    {
      "cell_type": "code",
      "source": [
        "df_comp = nifty_raw_data.copy()\n",
        "df_stock = stocks_raw_data.copy()\n",
        "\n",
        "df_stock=df_stock.asfreq('b')\n",
        "df_stock=df_stock.fillna(method='ffill')\n",
        "\n",
        "df_comp=df_comp.asfreq('b')\n",
        "df_comp=df_comp.fillna(method='ffill')\n",
        "df_comp = df_comp[-len(df_stock):]\n",
        "df_comp['kpi'] = df_stock.Close[:]\n",
        "df_comp['Qkpi'] = df_stock.Volume[:]\n",
        "df_comp['nifty'] = df_comp.Close[:]\n",
        "\n",
        "df_comp['ret_nifty'] = df_comp.nifty.pct_change(1).mul(100)\n",
        "df_comp['norm_ret_nifty'] = df_comp.ret_nifty.div(df_comp.ret_nifty[1])*100\n",
        "\n",
        "# # kpi\n",
        "df_comp['ret_kpi'] = df_comp.kpi.pct_change(1).mul(100)\n",
        "df_comp['norm_ret_kpi'] = df_comp.ret_kpi.div(df_comp.ret_kpi[1])*100\n",
        "\n",
        "# # kpi volumn\n",
        "df_comp['ret_Qkpi'] = df_comp.Qkpi.pct_change(1).mul(100)\n",
        "df_comp['norm_ret_Qkpi'] = df_comp.ret_Qkpi.div(df_comp.ret_Qkpi[1])*100\n",
        "\n",
        "\n",
        "df_comp.head()"
      ],
      "metadata": {
        "colab": {
          "base_uri": "https://localhost:8080/",
          "height": 388
        },
        "id": "p6akyttZDPIU",
        "outputId": "afad87d7-ff57-4954-e61b-f52af4cf2632"
      },
      "execution_count": 243,
      "outputs": [
        {
          "output_type": "execute_result",
          "data": {
            "text/plain": [
              "                    Open          High           Low         Close    Volume  \\\n",
              "Date                                                                           \n",
              "2021-07-27  15860.500000  15881.549805  15701.000000  15746.450195  311000.0   \n",
              "2021-07-28  15761.549805  15767.500000  15513.450195  15709.400391  318600.0   \n",
              "2021-07-29  15762.700195  15817.349609  15737.799805  15778.450195  401600.0   \n",
              "2021-07-30  15800.599609  15862.799805  15744.849609  15763.049805  400000.0   \n",
              "2021-08-02  15874.900391  15892.900391  15834.650391  15885.150391  244800.0   \n",
              "\n",
              "                   kpi      Qkpi         nifty  ret_nifty  norm_ret_nifty  \\\n",
              "Date                                                                        \n",
              "2021-07-27  125.572403  277005.0  15746.450195        NaN             NaN   \n",
              "2021-07-28  126.266174  526956.0  15709.400391  -0.235290      100.000000   \n",
              "2021-07-29  126.959946  312237.0  15778.450195   0.439544     -186.809770   \n",
              "2021-07-30  133.302994  524928.0  15763.049805  -0.097604       41.482425   \n",
              "2021-08-02  139.943359   63463.0  15885.150391   0.774600     -329.210927   \n",
              "\n",
              "             ret_kpi  norm_ret_kpi   ret_Qkpi  norm_ret_Qkpi  \n",
              "Date                                                          \n",
              "2021-07-27       NaN           NaN        NaN            NaN  \n",
              "2021-07-28  0.552487    100.000000  90.233389     100.000000  \n",
              "2021-07-29  0.549451     99.450549 -40.747045     -45.157392  \n",
              "2021-07-30  4.996102    904.292882  68.118448      75.491400  \n",
              "2021-08-02  4.981408    901.633260 -87.910151     -97.425301  "
            ],
            "text/html": [
              "\n",
              "  <div id=\"df-ccf831f3-9002-47a9-beaa-d7d05584c126\">\n",
              "    <div class=\"colab-df-container\">\n",
              "      <div>\n",
              "<style scoped>\n",
              "    .dataframe tbody tr th:only-of-type {\n",
              "        vertical-align: middle;\n",
              "    }\n",
              "\n",
              "    .dataframe tbody tr th {\n",
              "        vertical-align: top;\n",
              "    }\n",
              "\n",
              "    .dataframe thead th {\n",
              "        text-align: right;\n",
              "    }\n",
              "</style>\n",
              "<table border=\"1\" class=\"dataframe\">\n",
              "  <thead>\n",
              "    <tr style=\"text-align: right;\">\n",
              "      <th></th>\n",
              "      <th>Open</th>\n",
              "      <th>High</th>\n",
              "      <th>Low</th>\n",
              "      <th>Close</th>\n",
              "      <th>Volume</th>\n",
              "      <th>kpi</th>\n",
              "      <th>Qkpi</th>\n",
              "      <th>nifty</th>\n",
              "      <th>ret_nifty</th>\n",
              "      <th>norm_ret_nifty</th>\n",
              "      <th>ret_kpi</th>\n",
              "      <th>norm_ret_kpi</th>\n",
              "      <th>ret_Qkpi</th>\n",
              "      <th>norm_ret_Qkpi</th>\n",
              "    </tr>\n",
              "    <tr>\n",
              "      <th>Date</th>\n",
              "      <th></th>\n",
              "      <th></th>\n",
              "      <th></th>\n",
              "      <th></th>\n",
              "      <th></th>\n",
              "      <th></th>\n",
              "      <th></th>\n",
              "      <th></th>\n",
              "      <th></th>\n",
              "      <th></th>\n",
              "      <th></th>\n",
              "      <th></th>\n",
              "      <th></th>\n",
              "      <th></th>\n",
              "    </tr>\n",
              "  </thead>\n",
              "  <tbody>\n",
              "    <tr>\n",
              "      <th>2021-07-27</th>\n",
              "      <td>15860.500000</td>\n",
              "      <td>15881.549805</td>\n",
              "      <td>15701.000000</td>\n",
              "      <td>15746.450195</td>\n",
              "      <td>311000.0</td>\n",
              "      <td>125.572403</td>\n",
              "      <td>277005.0</td>\n",
              "      <td>15746.450195</td>\n",
              "      <td>NaN</td>\n",
              "      <td>NaN</td>\n",
              "      <td>NaN</td>\n",
              "      <td>NaN</td>\n",
              "      <td>NaN</td>\n",
              "      <td>NaN</td>\n",
              "    </tr>\n",
              "    <tr>\n",
              "      <th>2021-07-28</th>\n",
              "      <td>15761.549805</td>\n",
              "      <td>15767.500000</td>\n",
              "      <td>15513.450195</td>\n",
              "      <td>15709.400391</td>\n",
              "      <td>318600.0</td>\n",
              "      <td>126.266174</td>\n",
              "      <td>526956.0</td>\n",
              "      <td>15709.400391</td>\n",
              "      <td>-0.235290</td>\n",
              "      <td>100.000000</td>\n",
              "      <td>0.552487</td>\n",
              "      <td>100.000000</td>\n",
              "      <td>90.233389</td>\n",
              "      <td>100.000000</td>\n",
              "    </tr>\n",
              "    <tr>\n",
              "      <th>2021-07-29</th>\n",
              "      <td>15762.700195</td>\n",
              "      <td>15817.349609</td>\n",
              "      <td>15737.799805</td>\n",
              "      <td>15778.450195</td>\n",
              "      <td>401600.0</td>\n",
              "      <td>126.959946</td>\n",
              "      <td>312237.0</td>\n",
              "      <td>15778.450195</td>\n",
              "      <td>0.439544</td>\n",
              "      <td>-186.809770</td>\n",
              "      <td>0.549451</td>\n",
              "      <td>99.450549</td>\n",
              "      <td>-40.747045</td>\n",
              "      <td>-45.157392</td>\n",
              "    </tr>\n",
              "    <tr>\n",
              "      <th>2021-07-30</th>\n",
              "      <td>15800.599609</td>\n",
              "      <td>15862.799805</td>\n",
              "      <td>15744.849609</td>\n",
              "      <td>15763.049805</td>\n",
              "      <td>400000.0</td>\n",
              "      <td>133.302994</td>\n",
              "      <td>524928.0</td>\n",
              "      <td>15763.049805</td>\n",
              "      <td>-0.097604</td>\n",
              "      <td>41.482425</td>\n",
              "      <td>4.996102</td>\n",
              "      <td>904.292882</td>\n",
              "      <td>68.118448</td>\n",
              "      <td>75.491400</td>\n",
              "    </tr>\n",
              "    <tr>\n",
              "      <th>2021-08-02</th>\n",
              "      <td>15874.900391</td>\n",
              "      <td>15892.900391</td>\n",
              "      <td>15834.650391</td>\n",
              "      <td>15885.150391</td>\n",
              "      <td>244800.0</td>\n",
              "      <td>139.943359</td>\n",
              "      <td>63463.0</td>\n",
              "      <td>15885.150391</td>\n",
              "      <td>0.774600</td>\n",
              "      <td>-329.210927</td>\n",
              "      <td>4.981408</td>\n",
              "      <td>901.633260</td>\n",
              "      <td>-87.910151</td>\n",
              "      <td>-97.425301</td>\n",
              "    </tr>\n",
              "  </tbody>\n",
              "</table>\n",
              "</div>\n",
              "      <button class=\"colab-df-convert\" onclick=\"convertToInteractive('df-ccf831f3-9002-47a9-beaa-d7d05584c126')\"\n",
              "              title=\"Convert this dataframe to an interactive table.\"\n",
              "              style=\"display:none;\">\n",
              "        \n",
              "  <svg xmlns=\"http://www.w3.org/2000/svg\" height=\"24px\"viewBox=\"0 0 24 24\"\n",
              "       width=\"24px\">\n",
              "    <path d=\"M0 0h24v24H0V0z\" fill=\"none\"/>\n",
              "    <path d=\"M18.56 5.44l.94 2.06.94-2.06 2.06-.94-2.06-.94-.94-2.06-.94 2.06-2.06.94zm-11 1L8.5 8.5l.94-2.06 2.06-.94-2.06-.94L8.5 2.5l-.94 2.06-2.06.94zm10 10l.94 2.06.94-2.06 2.06-.94-2.06-.94-.94-2.06-.94 2.06-2.06.94z\"/><path d=\"M17.41 7.96l-1.37-1.37c-.4-.4-.92-.59-1.43-.59-.52 0-1.04.2-1.43.59L10.3 9.45l-7.72 7.72c-.78.78-.78 2.05 0 2.83L4 21.41c.39.39.9.59 1.41.59.51 0 1.02-.2 1.41-.59l7.78-7.78 2.81-2.81c.8-.78.8-2.07 0-2.86zM5.41 20L4 18.59l7.72-7.72 1.47 1.35L5.41 20z\"/>\n",
              "  </svg>\n",
              "      </button>\n",
              "      \n",
              "  <style>\n",
              "    .colab-df-container {\n",
              "      display:flex;\n",
              "      flex-wrap:wrap;\n",
              "      gap: 12px;\n",
              "    }\n",
              "\n",
              "    .colab-df-convert {\n",
              "      background-color: #E8F0FE;\n",
              "      border: none;\n",
              "      border-radius: 50%;\n",
              "      cursor: pointer;\n",
              "      display: none;\n",
              "      fill: #1967D2;\n",
              "      height: 32px;\n",
              "      padding: 0 0 0 0;\n",
              "      width: 32px;\n",
              "    }\n",
              "\n",
              "    .colab-df-convert:hover {\n",
              "      background-color: #E2EBFA;\n",
              "      box-shadow: 0px 1px 2px rgba(60, 64, 67, 0.3), 0px 1px 3px 1px rgba(60, 64, 67, 0.15);\n",
              "      fill: #174EA6;\n",
              "    }\n",
              "\n",
              "    [theme=dark] .colab-df-convert {\n",
              "      background-color: #3B4455;\n",
              "      fill: #D2E3FC;\n",
              "    }\n",
              "\n",
              "    [theme=dark] .colab-df-convert:hover {\n",
              "      background-color: #434B5C;\n",
              "      box-shadow: 0px 1px 3px 1px rgba(0, 0, 0, 0.15);\n",
              "      filter: drop-shadow(0px 1px 2px rgba(0, 0, 0, 0.3));\n",
              "      fill: #FFFFFF;\n",
              "    }\n",
              "  </style>\n",
              "\n",
              "      <script>\n",
              "        const buttonEl =\n",
              "          document.querySelector('#df-ccf831f3-9002-47a9-beaa-d7d05584c126 button.colab-df-convert');\n",
              "        buttonEl.style.display =\n",
              "          google.colab.kernel.accessAllowed ? 'block' : 'none';\n",
              "\n",
              "        async function convertToInteractive(key) {\n",
              "          const element = document.querySelector('#df-ccf831f3-9002-47a9-beaa-d7d05584c126');\n",
              "          const dataTable =\n",
              "            await google.colab.kernel.invokeFunction('convertToInteractive',\n",
              "                                                     [key], {});\n",
              "          if (!dataTable) return;\n",
              "\n",
              "          const docLinkHtml = 'Like what you see? Visit the ' +\n",
              "            '<a target=\"_blank\" href=https://colab.research.google.com/notebooks/data_table.ipynb>data table notebook</a>'\n",
              "            + ' to learn more about interactive tables.';\n",
              "          element.innerHTML = '';\n",
              "          dataTable['output_type'] = 'display_data';\n",
              "          await google.colab.output.renderOutput(dataTable, element);\n",
              "          const docLink = document.createElement('div');\n",
              "          docLink.innerHTML = docLinkHtml;\n",
              "          element.appendChild(docLink);\n",
              "        }\n",
              "      </script>\n",
              "    </div>\n",
              "  </div>\n",
              "  "
            ]
          },
          "metadata": {},
          "execution_count": 243
        }
      ]
    },
    {
      "cell_type": "code",
      "execution_count": 249,
      "metadata": {
        "id": "de015cn---sO"
      },
      "outputs": [],
      "source": [
        "\n",
        "\n",
        "#divide into train and validation set\n",
        "\n",
        "size = int(len(df_comp)*0.8)\n",
        "train, valid = df_comp.iloc[:size], df_comp.iloc[size:]\n",
        "# train = df_comp\n",
        "# train.head()"
      ]
    },
    {
      "cell_type": "code",
      "execution_count": 250,
      "metadata": {
        "colab": {
          "base_uri": "https://localhost:8080/",
          "height": 291
        },
        "id": "djwmQy8K_Rp-",
        "outputId": "ecdcbfc2-2224-4da5-fadb-07a204381e57"
      },
      "outputs": [
        {
          "output_type": "display_data",
          "data": {
            "text/plain": [
              "<Figure size 432x288 with 1 Axes>"
            ],
            "image/png": "[encoded data removed]"
          },
          "metadata": {
            "needs_background": "light"
          }
        }
      ],
      "source": [
        "# plotting the data\n",
        "train['kpi'].plot()\n",
        "valid['kpi'].plot()\n",
        "plt.show()"
      ]
    },
    {
      "cell_type": "code",
      "execution_count": 246,
      "metadata": {
        "id": "uJKB6bCa_fhS",
        "colab": {
          "base_uri": "https://localhost:8080/"
        },
        "outputId": "44b11ae2-f731-439e-fabb-7c1ef77f789e"
      },
      "outputs": [
        {
          "output_type": "stream",
          "name": "stdout",
          "text": [
            "Looking in indexes: https://pypi.org/simple, https://us-python.pkg.dev/colab-wheels/public/simple/\n",
            "Requirement already satisfied: pmdarima in /usr/local/lib/python3.7/dist-packages (1.8.5)\n",
            "Requirement already satisfied: Cython!=0.29.18,>=0.29 in /usr/local/lib/python3.7/dist-packages (from pmdarima) (0.29.30)\n",
            "Requirement already satisfied: pandas>=0.19 in /usr/local/lib/python3.7/dist-packages (from pmdarima) (1.3.5)\n",
            "Requirement already satisfied: scikit-learn>=0.22 in /usr/local/lib/python3.7/dist-packages (from pmdarima) (1.0.2)\n",
            "Requirement already satisfied: scipy>=1.3.2 in /usr/local/lib/python3.7/dist-packages (from pmdarima) (1.4.1)\n",
            "Requirement already satisfied: numpy>=1.19.3 in /usr/local/lib/python3.7/dist-packages (from pmdarima) (1.21.6)\n",
            "Requirement already satisfied: urllib3 in /usr/local/lib/python3.7/dist-packages (from pmdarima) (1.24.3)\n",
            "Requirement already satisfied: setuptools!=50.0.0,>=38.6.0 in /usr/local/lib/python3.7/dist-packages (from pmdarima) (57.4.0)\n",
            "Requirement already satisfied: statsmodels!=0.12.0,>=0.11 in /usr/local/lib/python3.7/dist-packages (from pmdarima) (0.13.2)\n",
            "Requirement already satisfied: joblib>=0.11 in /usr/local/lib/python3.7/dist-packages (from pmdarima) (1.1.0)\n",
            "Requirement already satisfied: python-dateutil>=2.7.3 in /usr/local/lib/python3.7/dist-packages (from pandas>=0.19->pmdarima) (2.8.2)\n",
            "Requirement already satisfied: pytz>=2017.3 in /usr/local/lib/python3.7/dist-packages (from pandas>=0.19->pmdarima) (2022.1)\n",
            "Requirement already satisfied: six>=1.5 in /usr/local/lib/python3.7/dist-packages (from python-dateutil>=2.7.3->pandas>=0.19->pmdarima) (1.15.0)\n",
            "Requirement already satisfied: threadpoolctl>=2.0.0 in /usr/local/lib/python3.7/dist-packages (from scikit-learn>=0.22->pmdarima) (3.1.0)\n",
            "Requirement already satisfied: patsy>=0.5.2 in /usr/local/lib/python3.7/dist-packages (from statsmodels!=0.12.0,>=0.11->pmdarima) (0.5.2)\n",
            "Requirement already satisfied: packaging>=21.3 in /usr/local/lib/python3.7/dist-packages (from statsmodels!=0.12.0,>=0.11->pmdarima) (21.3)\n",
            "Requirement already satisfied: pyparsing!=3.0.5,>=2.0.2 in /usr/local/lib/python3.7/dist-packages (from packaging>=21.3->statsmodels!=0.12.0,>=0.11->pmdarima) (3.0.9)\n"
          ]
        }
      ],
      "source": [
        "#building the model\n",
        "!pip install pmdarima\n",
        "from pmdarima.arima import auto_arima\n"
      ]
    },
    {
      "cell_type": "code",
      "execution_count": 265,
      "metadata": {
        "colab": {
          "base_uri": "https://localhost:8080/"
        },
        "id": "Gv_fIT6GA0Wj",
        "outputId": "fbf09225-2ac3-449b-ef5f-8248eab4d588"
      },
      "outputs": [
        {
          "output_type": "stream",
          "name": "stdout",
          "text": [
            "Performing stepwise search to minimize aic\n",
            " ARIMA(2,0,2)(1,0,1)[5] intercept   : AIC=-3940.100, Time=0.58 sec\n",
            " ARIMA(0,0,0)(0,0,0)[5] intercept   : AIC=-3952.151, Time=0.13 sec\n",
            " ARIMA(1,0,0)(1,0,0)[5] intercept   : AIC=-3948.151, Time=0.28 sec\n",
            " ARIMA(0,0,1)(0,0,1)[5] intercept   : AIC=-3948.129, Time=0.29 sec\n",
            " ARIMA(0,0,0)(0,0,0)[5]             : AIC=-3954.151, Time=0.12 sec\n",
            " ARIMA(0,0,0)(1,0,0)[5] intercept   : AIC=-3950.151, Time=0.24 sec\n",
            " ARIMA(0,0,0)(0,0,1)[5] intercept   : AIC=-3950.129, Time=0.24 sec\n",
            " ARIMA(0,0,0)(1,0,1)[5] intercept   : AIC=-3948.129, Time=0.29 sec\n",
            " ARIMA(1,0,0)(0,0,0)[5] intercept   : AIC=-3950.151, Time=0.15 sec\n",
            " ARIMA(0,0,1)(0,0,0)[5] intercept   : AIC=-3950.151, Time=0.21 sec\n",
            " ARIMA(1,0,1)(0,0,0)[5] intercept   : AIC=-3948.151, Time=0.21 sec\n",
            "\n",
            "Best model:  ARIMA(0,0,0)(0,0,0)[5]          \n",
            "Total fit time: 2.830 seconds\n"
          ]
        },
        {
          "output_type": "execute_result",
          "data": {
            "text/plain": [
              "ARIMA(order=(0, 0, 0), scoring_args={}, seasonal_order=(0, 0, 0, 5),\n",
              "      suppress_warnings=True, with_intercept=False)"
            ]
          },
          "metadata": {},
          "execution_count": 265
        }
      ],
      "source": [
        "train.head()\n",
        "model = auto_arima(train.ret_kpi[4:],exogenous = train[['ret_nifty','ret_Qkpi','ret_kpi']][4:], \n",
        "                   trace=True, error_action='ignore', suppress_warnings=True, m = 5, max_p = 5, max_q = 5, max_P = 5, max_Q = 5)\n",
        "model.fit(train.ret_kpi[4:])\n",
        "\n"
      ]
    },
    {
      "cell_type": "code",
      "source": [
        "df_auto_pred = pd.DataFrame(model.predict(n_periods = 48,\n",
        "                            exogenous = valid[['ret_nifty','ret_Qkpi']]),\n",
        "                            index = valid.index)"
      ],
      "metadata": {
        "id": "6JxqZuQ1domh"
      },
      "execution_count": 261,
      "outputs": []
    },
    {
      "cell_type": "code",
      "source": [
        "df_auto_pred.plot(figsize = (20,5), color = \"red\")\n",
        "valid.ret_kpi.plot(color = \"blue\")\n",
        "plt.title(\"Auto Model Predictions vs Real Data\", size = 24)\n",
        "plt.show()"
      ],
      "metadata": {
        "colab": {
          "base_uri": "https://localhost:8080/",
          "height": 394
        },
        "id": "yLgxONOre87L",
        "outputId": "2118a5e1-7fa1-427e-cf86-151958b7921f"
      },
      "execution_count": 262,
      "outputs": [
        {
          "output_type": "display_data",
          "data": {
            "text/plain": [
              "<Figure size 1440x360 with 1 Axes>"
            ],
            "image/png": "[encoded data removed]"
          },
          "metadata": {
            "needs_background": "light"
          }
        }
      ]
    },
    {
      "cell_type": "code",
      "execution_count": 248,
      "metadata": {
        "id": "kPuypy9_A4M0",
        "colab": {
          "base_uri": "https://localhost:8080/",
          "height": 268
        },
        "outputId": "2f1f5e57-c64a-4215-b02b-0d472e51f8cb"
      },
      "outputs": [
        {
          "output_type": "display_data",
          "data": {
            "text/plain": [
              "<Figure size 432x288 with 1 Axes>"
            ],
            "image/png": "[encoded data removed]"
          },
          "metadata": {
            "needs_background": "light"
          }
        }
      ],
      "source": [
        "forecast = model.predict(n_periods=10)\n",
        "\n",
        "forecast = pd.DataFrame(forecast)\n",
        "# print(forecast)\n",
        "# predic_data = data + forecast\n",
        "# plot the predictions for validation set\n",
        "# plt.plot(train, label='Train')\n",
        "# plt.plot(valid, label='Valid')\n",
        "# print(forecast)\n",
        "plt.plot(forecast, label='Prediction')\n",
        "plt.show()"
      ]
    },
    {
      "cell_type": "code",
      "source": [
        ""
      ],
      "metadata": {
        "id": "e25DBERv5bCu"
      },
      "execution_count": 248,
      "outputs": []
    }
  ],
  "metadata": {
    "colab": {
      "collapsed_sections": [],
      "name": "playground.ipynb",
      "provenance": [],
      "authorship_tag": "ABX9TyP/cKMc3DszmzmfFFGiEtX6",
      "include_colab_link": true
    },
    "kernelspec": {
      "display_name": "Python 3",
      "name": "python3"
    },
    "language_info": {
      "name": "python"
    }
  },
  "nbformat": 4,
  "nbformat_minor": 0
}